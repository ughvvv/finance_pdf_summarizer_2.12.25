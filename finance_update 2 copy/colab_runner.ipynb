{
 "cells": [
  {
   "cell_type": "markdown",
   "metadata": {},
   "source": [
    "# Finance Update Runner\n",
    "This notebook automatically sets up and runs the finance update program."
   ]
  },
  {
   "cell_type": "code",
   "execution_count": null,
   "metadata": {},
   "source": [
    "# Clone the repository\n",
    "!git clone https://github.com/blakecole/finance_update.git\n",
    "%cd finance_update"
   ]
  },
  {
   "cell_type": "code",
   "execution_count": null,
   "metadata": {},
   "source": [
    "# Install requirements\n",
    "!pip install -r requirements.txt"
   ]
  },
  {
   "cell_type": "code",
   "execution_count": null,
   "metadata": {},
   "source": [
    "# Set up environment variables\n",
    "import os\n",
    "from getpass import getpass\n",
    "\n",
    "print(\"Please enter your API keys and credentials:\")\n",
    "os.environ['OPENAI_API_KEY'] = getpass('Enter your OpenAI API key: ')\n",
    "os.environ['DROPBOX_API_KEY'] = getpass('Enter your Dropbox API key: ')\n",
    "os.environ['EMAIL_USERNAME'] = getpass('Enter your email username: ')\n",
    "os.environ['EMAIL_PASSWORD'] = getpass('Enter your email password: ')"
   ]
  },
  {
   "cell_type": "code",
   "execution_count": null,
   "metadata": {},
   "source": [
    "# Import and run the main program\n",
    "import asyncio\n",
    "from __main__ import process_reports\n",
    "\n",
    "# Run the analysis\n",
    "final_analysis = await process_reports()\n",
    "print(\"\\nFinal Analysis:\")\n",
    "print(final_analysis)"
   ]
  }
 ],
 "metadata": {
  "kernelspec": {
   "display_name": "Python 3",
   "language": "python",
   "name": "python3"
  },
  "language_info": {
   "codemirror_mode": {
    "name": "ipython",
    "version": 3
   },
   "file_extension": ".py",
   "mimetype": "text/x-python",
   "name": "python",
   "nbconvert_exporter": "python",
   "pygments_lexer": "ipython3",
   "version": "3.8.0"
  }
 },
 "nbformat": 4,
 "nbformat_minor": 4
}
